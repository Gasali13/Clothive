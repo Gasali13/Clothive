{
  "nbformat": 4,
  "nbformat_minor": 0,
  "metadata": {
    "colab": {
      "provenance": [],
      "authorship_tag": "ABX9TyMNkgVmvSZ3+KiJsqRq5leW"
    },
    "kernelspec": {
      "name": "python3",
      "display_name": "Python 3"
    },
    "language_info": {
      "name": "python"
    }
  },
  "cells": [
    {
      "cell_type": "code",
      "execution_count": 6,
      "metadata": {
        "colab": {
          "base_uri": "https://localhost:8080/"
        },
        "id": "OXZKULG_ega2",
        "outputId": "74daeb53-cd4d-4e44-d365-031f7166dec3"
      },
      "outputs": [
        {
          "output_type": "stream",
          "name": "stdout",
          "text": [
            "Requirement already satisfied: beautifulsoup4 in /usr/local/lib/python3.12/dist-packages (4.13.5)\n",
            "Requirement already satisfied: soupsieve>1.2 in /usr/local/lib/python3.12/dist-packages (from beautifulsoup4) (2.8)\n",
            "Requirement already satisfied: typing-extensions>=4.0.0 in /usr/local/lib/python3.12/dist-packages (from beautifulsoup4) (4.15.0)\n"
          ]
        }
      ],
      "source": [
        "pip install beautifulsoup4"
      ]
    },
    {
      "cell_type": "code",
      "source": [
        "import requests\n",
        "from bs4 import BeautifulSoup\n",
        "\n",
        "url = \"https://www.cna.id/indonesia/komdigi-kaji-usulan-dpr-satu-orang-satu-akun-medsos-apa-tujuannya-38096\"\n",
        "\n",
        "headers = {\n",
        "    \"User-Agent\": \"Mozilla/5.0 (Windows NT 10.0; Win64; x64) AppleWebKit/537.36 (KHTML, like Gecko) Chrome/120.0.0.0 Safari/537.36\"\n",
        "}\n",
        "\n",
        "response = requests.get(url, headers=headers)\n",
        "soup = BeautifulSoup(response.text, \"html.parser\")\n",
        "\n",
        "title_tag = soup.find(\"meta\", property=\"og:title\")\n",
        "desc_tag = soup.find(\"meta\", property=\"og:description\")\n",
        "\n",
        "title = title_tag[\"content\"] if title_tag else \"Tidak ada judul\"\n",
        "description = desc_tag[\"content\"] if desc_tag else \"Tidak ada deskripsi\"\n",
        "\n",
        "print(\"Judul :\", title)\n",
        "print(\"Deskripsi :\", description)"
      ],
      "metadata": {
        "colab": {
          "base_uri": "https://localhost:8080/"
        },
        "id": "il8jzebegyGU",
        "outputId": "e28473d9-3038-4739-9cf3-18ac2001ddcf"
      },
      "execution_count": 5,
      "outputs": [
        {
          "output_type": "stream",
          "name": "stdout",
          "text": [
            "Judul : Komdigi kaji usulan DPR: Satu orang satu akun medsos, apa tujuannya?\n",
            "Deskripsi : Aturan ini bisa menjadi solusi untuk menekan peredaran konten negatif seperti hoaks di media sosial.\n"
          ]
        }
      ]
    }
  ]
}